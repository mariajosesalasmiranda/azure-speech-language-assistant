{
 "cells": [
  {
   "cell_type": "code",
   "execution_count": 1,
   "metadata": {},
   "outputs": [],
   "source": [
    "import azure.cognitiveservices.speech as speechsdk"
   ]
  },
  {
   "cell_type": "code",
   "execution_count": 2,
   "metadata": {},
   "outputs": [],
   "source": [
    "speech_key = \"Vvpft8FtEHyX1DP9tp6HIP6CaMe1Ju2ZsgBg5Nd0SkTI4VBFGBJ9JQQJ99ALACYeBjFXJ3w3AAAYACOGBQfM\" \n",
    "service_region = \"eastus\""
   ]
  },
  {
   "cell_type": "code",
   "execution_count": 4,
   "metadata": {},
   "outputs": [
    {
     "name": "stdout",
     "output_type": "stream",
     "text": [
      "Parla ora... (sto ascoltando)\n",
      "Frase riconosciuta: Hello, I would like to order a coffee.\n"
     ]
    }
   ],
   "source": [
    "def recognize_speech():\n",
    "    speech_config = speechsdk.SpeechConfig(subscription=speech_key, region=service_region)\n",
    "    audio_config = speechsdk.AudioConfig(use_default_microphone=True)\n",
    "\n",
    "    speech_recognizer = speechsdk.SpeechRecognizer(speech_config=speech_config, audio_config=audio_config)\n",
    "\n",
    "    print(\"Parla ora... (sto ascoltando)\")\n",
    "    result = speech_recognizer.recognize_once() \n",
    "\n",
    "    if result.reason == speechsdk.ResultReason.RecognizedSpeech:\n",
    "        print(f\"Frase riconosciuta: {result.text}\")\n",
    "    elif result.reason == speechsdk.ResultReason.NoMatch:\n",
    "        print(\"Nessuna frase riconosciuta.\")\n",
    "    elif result.reason == speechsdk.ResultReason.Canceled:\n",
    "        cancellation_details = result.cancellation_details\n",
    "        print(f\"Riconoscimento cancellato: {cancellation_details.reason}\")\n",
    "\n",
    "recognize_speech()"
   ]
  },
  {
   "cell_type": "code",
   "execution_count": 7,
   "metadata": {},
   "outputs": [
    {
     "name": "stdout",
     "output_type": "stream",
     "text": [
      "Sto pronunciando: 'Hello! How are you doing today?'\n"
     ]
    }
   ],
   "source": [
    "def text_to_speech(text):\n",
    "    speech_config = speechsdk.SpeechConfig(subscription=speech_key, region=service_region)\n",
    "    speech_config.speech_synthesis_voice_name = \"en-US-AriaNeural\" \n",
    "\n",
    "    speech_synthesizer = speechsdk.SpeechSynthesizer(speech_config=speech_config)\n",
    "\n",
    "    print(f\"Sto pronunciando: '{text}'\")\n",
    "    speech_synthesizer.speak_text_async(text)\n",
    "\n",
    "text_to_speech(\"Hello! How are you doing today?\")"
   ]
  }
 ],
 "metadata": {
  "kernelspec": {
   "display_name": "AI",
   "language": "python",
   "name": "python3"
  },
  "language_info": {
   "codemirror_mode": {
    "name": "ipython",
    "version": 3
   },
   "file_extension": ".py",
   "mimetype": "text/x-python",
   "name": "python",
   "nbconvert_exporter": "python",
   "pygments_lexer": "ipython3",
   "version": "3.10.16"
  }
 },
 "nbformat": 4,
 "nbformat_minor": 2
}
