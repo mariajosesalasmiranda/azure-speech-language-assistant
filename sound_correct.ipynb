{
 "cells": [
  {
   "cell_type": "markdown",
   "metadata": {},
   "source": [
    "# SoundCorrect: your interactive pronunciation guide"
   ]
  },
  {
   "cell_type": "markdown",
   "metadata": {},
   "source": [
    "In this notebook, you can \"speak\" with the system, and it will recognize what you say—if you say it correctly! This tool will help you with your pronunciation. If you speak correctly, the system will correctly detect what you have said. Try it!"
   ]
  },
  {
   "cell_type": "markdown",
   "metadata": {},
   "source": [
    "Please refer to the [support languages](https://learn.microsoft.com/en-us/azure/ai-services/speech-service/language-support?tabs=stt#speech-to-text) documentation to check the available languages."
   ]
  },
  {
   "cell_type": "code",
   "execution_count": 4,
   "metadata": {},
   "outputs": [],
   "source": [
    "import azure.cognitiveservices.speech as speechsdk"
   ]
  },
  {
   "cell_type": "code",
   "execution_count": 5,
   "metadata": {},
   "outputs": [],
   "source": [
    "speech_key = \"Vvpft8FtEHyX1DP9tp6HIP6CaMe1Ju2ZsgBg5Nd0SkTI4VBFGBJ9JQQJ99ALACYeBjFXJ3w3AAAYACOGBQfM\" \n",
    "service_region = \"eastus\""
   ]
  },
  {
   "cell_type": "code",
   "execution_count": null,
   "metadata": {},
   "outputs": [
    {
     "name": "stdout",
     "output_type": "stream",
     "text": [
      "Say something...\n",
      "Recognized: Bonjour, je m'appelle Maria et j'ai 25 ans.\n"
     ]
    }
   ],
   "source": [
    "def recognize_speech():\n",
    "    language_code = \"fr-FR\" # Please refer to the documentation for the list of supported languages.\n",
    "\n",
    "    speech_config = speechsdk.SpeechConfig(subscription=speech_key, region=service_region)\n",
    "    speech_config.speech_recognition_language = language_code\n",
    "    audio_config = speechsdk.AudioConfig(use_default_microphone=True)\n",
    "\n",
    "    speech_recognizer = speechsdk.SpeechRecognizer(speech_config=speech_config, audio_config=audio_config)\n",
    "\n",
    "    print(\"Say something...\")\n",
    "    result = speech_recognizer.recognize_once() \n",
    "\n",
    "    if result.reason == speechsdk.ResultReason.RecognizedSpeech:\n",
    "        print(f\"Recognized: {result.text}\")\n",
    "    elif result.reason == speechsdk.ResultReason.NoMatch:\n",
    "        print(\"No speech could be recognized.\")\n",
    "    elif result.reason == speechsdk.ResultReason.Canceled:\n",
    "        cancellation_details = result.cancellation_details\n",
    "        print(f\"Speech Recognition canceled: {cancellation_details.reason}\")\n",
    "\n",
    "recognize_speech()"
   ]
  }
 ],
 "metadata": {
  "kernelspec": {
   "display_name": "AI",
   "language": "python",
   "name": "python3"
  },
  "language_info": {
   "codemirror_mode": {
    "name": "ipython",
    "version": 3
   },
   "file_extension": ".py",
   "mimetype": "text/x-python",
   "name": "python",
   "nbconvert_exporter": "python",
   "pygments_lexer": "ipython3",
   "version": "3.10.16"
  }
 },
 "nbformat": 4,
 "nbformat_minor": 2
}
