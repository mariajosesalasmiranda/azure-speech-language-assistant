{
 "cells": [
  {
   "cell_type": "markdown",
   "metadata": {},
   "source": [
    "# SoundItOut: your text-to-speech guide"
   ]
  },
  {
   "cell_type": "markdown",
   "metadata": {},
   "source": [
    "Not sure how to pronounce something? Just type it and find out! This notebook uses text-to-speech technology to help you learn the correct pronunciation of words and phrases. It's a great tool if you're unsure how to say something. Give it a try and improve your speaking skills!"
   ]
  },
  {
   "cell_type": "markdown",
   "metadata": {},
   "source": []
  }
 ],
 "metadata": {
  "language_info": {
   "name": "python"
  }
 },
 "nbformat": 4,
 "nbformat_minor": 2
}
