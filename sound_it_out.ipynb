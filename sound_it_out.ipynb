{
 "cells": [
  {
   "cell_type": "markdown",
   "metadata": {},
   "source": [
    "# SoundItOut: your text-to-speech guide"
   ]
  },
  {
   "cell_type": "markdown",
   "metadata": {},
   "source": [
    "Not sure how to pronounce something? Just type it and find out! This notebook uses text-to-speech technology to help you learn the correct pronunciation of words and phrases. It's a great tool if you're unsure how to say something. Give it a try and improve your speaking skills!"
   ]
  },
  {
   "cell_type": "markdown",
   "metadata": {},
   "source": [
    "You can check the supported languages at the [Language and voice support for the Speech service](https://learn.microsoft.com/en-us/azure/ai-services/speech-service/language-support?utm_source=chatgpt.com&tabs=tts) documentation. "
   ]
  },
  {
   "cell_type": "code",
   "execution_count": 4,
   "metadata": {},
   "outputs": [],
   "source": [
    "import azure.cognitiveservices.speech as speechsdk"
   ]
  },
  {
   "cell_type": "code",
   "execution_count": 5,
   "metadata": {},
   "outputs": [],
   "source": [
    "speech_key = \"Vvpft8FtEHyX1DP9tp6HIP6CaMe1Ju2ZsgBg5Nd0SkTI4VBFGBJ9JQQJ99ALACYeBjFXJ3w3AAAYACOGBQfM\" \n",
    "service_region = \"eastus\""
   ]
  },
  {
   "cell_type": "code",
   "execution_count": 7,
   "metadata": {},
   "outputs": [
    {
     "name": "stdout",
     "output_type": "stream",
     "text": [
      "Speaking: 'Ciao! Come stai?'\n"
     ]
    }
   ],
   "source": [
    "def text_to_speech(text):\n",
    "    speech_config = speechsdk.SpeechConfig(subscription=speech_key, region=service_region)\n",
    "    speech_config.speech_synthesis_voice_name = \"en-US-AriaNeural\" # Please check the documentation for all the languages available.\n",
    "\n",
    "    speech_synthesizer = speechsdk.SpeechSynthesizer(speech_config=speech_config)\n",
    "\n",
    "    print(f\"Speaking: '{text}'\")  \n",
    "    speech_synthesizer.speak_text_async(text)\n",
    "\n",
    "text_to_speech(\"Hello! How are you doing today?\")"
   ]
  }
 ],
 "metadata": {
  "kernelspec": {
   "display_name": "AI",
   "language": "python",
   "name": "python3"
  },
  "language_info": {
   "codemirror_mode": {
    "name": "ipython",
    "version": 3
   },
   "file_extension": ".py",
   "mimetype": "text/x-python",
   "name": "python",
   "nbconvert_exporter": "python",
   "pygments_lexer": "ipython3",
   "version": "3.10.16"
  }
 },
 "nbformat": 4,
 "nbformat_minor": 2
}
