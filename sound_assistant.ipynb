{
 "cells": [
  {
   "cell_type": "code",
   "execution_count": 1,
   "metadata": {},
   "outputs": [],
   "source": [
    "import os\n",
    "from azure.ai.inference import ChatCompletionsClient\n",
    "from azure.core.credentials import AzureKeyCredential"
   ]
  },
  {
   "cell_type": "code",
   "execution_count": 2,
   "metadata": {},
   "outputs": [],
   "source": [
    "api_key = \"L3zgDrSQtiVv5c6wjcAedtFuEOrEA739\"\n",
    "\n",
    "client = ChatCompletionsClient(\n",
    "    endpoint='https://Phi-3-medium-4k-instruct-xwzwa.eastus2.models.ai.azure.com',\n",
    "    credential=AzureKeyCredential(api_key)\n",
    ")"
   ]
  },
  {
   "cell_type": "code",
   "execution_count": 3,
   "metadata": {},
   "outputs": [
    {
     "name": "stdout",
     "output_type": "stream",
     "text": [
      "Model name: phi3-medium-4k\n",
      "Model type: chat-completion\n",
      "Model provider name: Phi\n",
      "Response:  The Eiffel Tower, also known as La Tour Eiffel, is a marvel of engineering and a symbol of Paris. Here are some reasons why it is so great:\n",
      "\n",
      "1. Iconic Design: The Eiffel Tower's unique lattice structure and elegant design make it instantly recognizable and a symbol of Paris. It was designed by Gustave Eiffel and his team for the 1889 Exposition Universelle (World's Fair) to celebrate the 100th anniversary of the French Revolution.\n",
      "\n",
      "2. Breathtaking Views: Visitors can ascend to the top of the tower and enjoy panoramic views of Paris, including landmarks such as the Seine River, the Arc de Triomphe, and the Sacré-Cœur Basilica.\n",
      "\n",
      "3. Historical Significance: The Eiffel Tower has played a significant role in French history, serving as a radio transmission tower during World War I and a symbol of French resilience and innovation.\n",
      "\n",
      "4. Cultural Significance: The tower has been featured in countless films, books, and artworks, and has become an enduring symbol of romance and the City of Light.\n",
      "\n",
      "5. Architectural Marvel: The Eiffel Tower's construction was a remarkable feat of engineering, with over 18,000 individual iron pieces and 2.5 million rivets used to create the structure. It was the tallest man-made structure in the world until the completion of the Chrysler Building in New York City in 1930.\n",
      "\n",
      "Overall, the Eiffel Tower is a must-see attraction in Paris, offering visitors a unique and unforgettable experience.\n",
      "Model: phi3-medium-4k\n",
      "Usage:\n",
      "\tPrompt tokens: 237\n",
      "\tTotal tokens: 611\n",
      "\tCompletion tokens: 374\n"
     ]
    }
   ],
   "source": [
    "model_info = client.get_model_info()\n",
    "print(\"Model name:\", model_info.model_name)\n",
    "print(\"Model type:\", model_info.model_type)\n",
    "print(\"Model provider name:\", model_info.model_provider_name)\n",
    "\n",
    "payload = {\n",
    "  \"messages\": [\n",
    "    {\n",
    "      \"role\": \"user\",\n",
    "      \"content\": \"I am going to Paris, what should I see?\"\n",
    "    },\n",
    "    {\n",
    "      \"role\": \"assistant\",\n",
    "      \"content\": \"Paris, the capital of France, is known for its stunning architecture, art museums, historical landmarks, and romantic atmosphere. Here are some of the top attractions to see in Paris:\\n\\n1. The Eiffel Tower: The iconic Eiffel Tower is one of the most recognizable landmarks in the world and offers breathtaking views of the city.\\n2. The Louvre Museum: The Louvre is one of the world's largest and most famous museums, housing an impressive collection of art and artifacts, including the Mona Lisa.\\n3. Notre-Dame Cathedral: This beautiful cathedral is one of the most famous landmarks in Paris and is known for its Gothic architecture and stunning stained glass windows.\\n\\nThese are just a few of the many attractions that Paris has to offer. With so much to see and do, it's no wonder that Paris is one of the most popular tourist destinations in the world.\"\n",
    "    },\n",
    "    {\n",
    "      \"role\": \"user\",\n",
    "      \"content\": \"What is so great about #1?\"\n",
    "    }\n",
    "  ],\n",
    "  \"max_tokens\": 2048,\n",
    "  \"temperature\": 0.8,\n",
    "  \"top_p\": 0.1,\n",
    "  \"presence_penalty\": 0,\n",
    "  \"frequency_penalty\": 0\n",
    "}\n",
    "response = client.complete(payload)\n",
    "\n",
    "print(\"Response:\", response.choices[0].message.content)\n",
    "print(\"Model:\", response.model)\n",
    "print(\"Usage:\")\n",
    "print(\"\tPrompt tokens:\", response.usage.prompt_tokens)\n",
    "print(\"\tTotal tokens:\", response.usage.total_tokens)\n",
    "print(\"\tCompletion tokens:\", response.usage.completion_tokens)"
   ]
  },
  {
   "cell_type": "code",
   "execution_count": null,
   "metadata": {},
   "outputs": [],
   "source": []
  }
 ],
 "metadata": {
  "kernelspec": {
   "display_name": "AI",
   "language": "python",
   "name": "python3"
  },
  "language_info": {
   "codemirror_mode": {
    "name": "ipython",
    "version": 3
   },
   "file_extension": ".py",
   "mimetype": "text/x-python",
   "name": "python",
   "nbconvert_exporter": "python",
   "pygments_lexer": "ipython3",
   "version": "3.10.16"
  }
 },
 "nbformat": 4,
 "nbformat_minor": 2
}
