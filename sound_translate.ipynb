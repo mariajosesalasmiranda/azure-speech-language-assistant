{
 "cells": [
  {
   "cell_type": "markdown",
   "metadata": {},
   "source": [
    "# SoundTranslate: translate your words"
   ]
  },
  {
   "cell_type": "markdown",
   "metadata": {},
   "source": [
    "Say something, and watch it be translated into different languages, including French, German, and Chinese. This notebook uses advanced translation technology to help you communicate across languages. It's a great tool for learning, traveling, or just exploring new ways to express yourself. Give it a try and broaden your linguistic horizons!"
   ]
  },
  {
   "cell_type": "code",
   "execution_count": 1,
   "metadata": {},
   "outputs": [],
   "source": [
    "import azure.cognitiveservices.speech as speechsdk"
   ]
  },
  {
   "cell_type": "code",
   "execution_count": 2,
   "metadata": {},
   "outputs": [],
   "source": [
    "speech_key = \"Vvpft8FtEHyX1DP9tp6HIP6CaMe1Ju2ZsgBg5Nd0SkTI4VBFGBJ9JQQJ99ALACYeBjFXJ3w3AAAYACOGBQfM\" \n",
    "service_region = \"eastus\""
   ]
  },
  {
   "cell_type": "code",
   "execution_count": 3,
   "metadata": {},
   "outputs": [
    {
     "name": "stdout",
     "output_type": "stream",
     "text": [
      "Parla ora... (sto ascoltando)\n",
      "Recognized: Hello, my name is Maria.\n",
      "        German translation: Hallo, mein Name ist Maria.\n",
      "        French translation: Bonjour, je m’appelle Maria.\n",
      "        Chinese translation: 您好，我叫 Maria。\n"
     ]
    }
   ],
   "source": [
    "def translation_once_from_mic():\n",
    "    translation_config = speechsdk.translation.SpeechTranslationConfig(\n",
    "        subscription=speech_key, region=service_region,\n",
    "        speech_recognition_language='en-US',\n",
    "        target_languages=('de', 'fr', 'zh-Hans'))\n",
    "    audio_config = speechsdk.audio.AudioConfig(use_default_microphone=True)\n",
    "\n",
    "    recognizer = speechsdk.translation.TranslationRecognizer(\n",
    "        translation_config=translation_config, audio_config=audio_config)\n",
    "\n",
    "    print(\"Say something...\")\n",
    "    result = recognizer.recognize_once()\n",
    "\n",
    "    if result.reason == speechsdk.ResultReason.TranslatedSpeech:\n",
    "        print(\"\"\"Recognized: {}\n",
    "        German translation: {}\n",
    "        French translation: {}\n",
    "        Chinese translation: {}\"\"\".format(\n",
    "            result.text, result.translations['de'],\n",
    "            result.translations['fr'],\n",
    "            result.translations['zh-Hans'],))\n",
    "    elif result.reason == speechsdk.ResultReason.RecognizedSpeech:\n",
    "        print(\"Recognized: {}\".format(result.text))\n",
    "    elif result.reason == speechsdk.ResultReason.NoMatch:\n",
    "        print(\"No speech could be recognized: {}\".format(result.no_match_details))\n",
    "    elif result.reason == speechsdk.ResultReason.Canceled:\n",
    "        print(\"Translation canceled: {}\".format(result.cancellation_details.reason))\n",
    "        if result.cancellation_details.reason == speechsdk.CancellationReason.Error:\n",
    "            print(\"Error details: {}\".format(result.cancellation_details.error_details))\n",
    "\n",
    "translation_once_from_mic()\n"
   ]
  }
 ],
 "metadata": {
  "kernelspec": {
   "display_name": "AI",
   "language": "python",
   "name": "python3"
  },
  "language_info": {
   "codemirror_mode": {
    "name": "ipython",
    "version": 3
   },
   "file_extension": ".py",
   "mimetype": "text/x-python",
   "name": "python",
   "nbconvert_exporter": "python",
   "pygments_lexer": "ipython3",
   "version": "3.10.16"
  }
 },
 "nbformat": 4,
 "nbformat_minor": 2
}
